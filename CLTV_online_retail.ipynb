{
 "cells": [
  {
   "cell_type": "markdown",
   "id": "2b6b7319",
   "metadata": {},
   "source": [
    "# Buy Till You Die Models: Customer Lifetime Value"
   ]
  },
  {
   "cell_type": "markdown",
   "id": "ba1ad063",
   "metadata": {},
   "source": [
    "Import Packages and Dataset"
   ]
  },
  {
   "cell_type": "code",
   "execution_count": 1,
   "id": "3d5bf57b",
   "metadata": {},
   "outputs": [],
   "source": [
    "import numpy as np\n",
    "import pandas as pd\n",
    "import matplotlib.pyplot as plt\n",
    "import seaborn as sns\n",
    "\n",
    "from lifetimes.plotting import *\n",
    "from lifetimes.utils import *\n",
    "\n",
    "from lifetimes import GammaGammaFitter\n",
    "from lifetimes import ModifiedBetaGeoFitter\n",
    "\n",
    "from lifetimes.plotting import plot_frequency_recency_matrix\n",
    "from lifetimes.plotting import plot_period_transactions\n",
    "from lifetimes.plotting import plot_calibration_purchases_vs_holdout_purchases\n",
    "\n",
    "from lifetimes.utils import calculate_alive_path\n",
    "\n",
    "from lifetimes.utils import calibration_and_holdout_data\n",
    "\n",
    "from datetime import date\n",
    "from lifetimes.plotting import plot_history_alive\n",
    "from pylab import figure, text, scatter, show\n",
    "\n",
    "from datetime import datetime\n",
    "\n",
    "import warnings\n",
    "warnings.filterwarnings('ignore')"
   ]
  },
  {
   "cell_type": "markdown",
   "id": "f0b97c35",
   "metadata": {},
   "source": [
    "import dataset "
   ]
  },
  {
   "cell_type": "code",
   "execution_count": 19,
   "id": "59dfc37f",
   "metadata": {},
   "outputs": [],
   "source": [
    "df = pd.read_excel(\"online_retail_II.xlsx\",sheet_name=\"Year 2010-2011\", engine = 'openpyxl')"
   ]
  },
  {
   "cell_type": "code",
   "execution_count": 4,
   "id": "171f8def",
   "metadata": {},
   "outputs": [
    {
     "data": {
      "text/html": [
       "<div>\n",
       "<style scoped>\n",
       "    .dataframe tbody tr th:only-of-type {\n",
       "        vertical-align: middle;\n",
       "    }\n",
       "\n",
       "    .dataframe tbody tr th {\n",
       "        vertical-align: top;\n",
       "    }\n",
       "\n",
       "    .dataframe thead th {\n",
       "        text-align: right;\n",
       "    }\n",
       "</style>\n",
       "<table border=\"1\" class=\"dataframe\">\n",
       "  <thead>\n",
       "    <tr style=\"text-align: right;\">\n",
       "      <th></th>\n",
       "      <th>Invoice</th>\n",
       "      <th>StockCode</th>\n",
       "      <th>Description</th>\n",
       "      <th>Quantity</th>\n",
       "      <th>InvoiceDate</th>\n",
       "      <th>Price</th>\n",
       "      <th>Customer ID</th>\n",
       "      <th>Country</th>\n",
       "    </tr>\n",
       "  </thead>\n",
       "  <tbody>\n",
       "    <tr>\n",
       "      <th>0</th>\n",
       "      <td>536365</td>\n",
       "      <td>85123A</td>\n",
       "      <td>WHITE HANGING HEART T-LIGHT HOLDER</td>\n",
       "      <td>6</td>\n",
       "      <td>2010-12-01 08:26:00</td>\n",
       "      <td>2.55</td>\n",
       "      <td>17850.0</td>\n",
       "      <td>United Kingdom</td>\n",
       "    </tr>\n",
       "    <tr>\n",
       "      <th>1</th>\n",
       "      <td>536365</td>\n",
       "      <td>71053</td>\n",
       "      <td>WHITE METAL LANTERN</td>\n",
       "      <td>6</td>\n",
       "      <td>2010-12-01 08:26:00</td>\n",
       "      <td>3.39</td>\n",
       "      <td>17850.0</td>\n",
       "      <td>United Kingdom</td>\n",
       "    </tr>\n",
       "    <tr>\n",
       "      <th>2</th>\n",
       "      <td>536365</td>\n",
       "      <td>84406B</td>\n",
       "      <td>CREAM CUPID HEARTS COAT HANGER</td>\n",
       "      <td>8</td>\n",
       "      <td>2010-12-01 08:26:00</td>\n",
       "      <td>2.75</td>\n",
       "      <td>17850.0</td>\n",
       "      <td>United Kingdom</td>\n",
       "    </tr>\n",
       "    <tr>\n",
       "      <th>3</th>\n",
       "      <td>536365</td>\n",
       "      <td>84029G</td>\n",
       "      <td>KNITTED UNION FLAG HOT WATER BOTTLE</td>\n",
       "      <td>6</td>\n",
       "      <td>2010-12-01 08:26:00</td>\n",
       "      <td>3.39</td>\n",
       "      <td>17850.0</td>\n",
       "      <td>United Kingdom</td>\n",
       "    </tr>\n",
       "    <tr>\n",
       "      <th>4</th>\n",
       "      <td>536365</td>\n",
       "      <td>84029E</td>\n",
       "      <td>RED WOOLLY HOTTIE WHITE HEART.</td>\n",
       "      <td>6</td>\n",
       "      <td>2010-12-01 08:26:00</td>\n",
       "      <td>3.39</td>\n",
       "      <td>17850.0</td>\n",
       "      <td>United Kingdom</td>\n",
       "    </tr>\n",
       "  </tbody>\n",
       "</table>\n",
       "</div>"
      ],
      "text/plain": [
       "  Invoice StockCode                          Description  Quantity  \\\n",
       "0  536365    85123A   WHITE HANGING HEART T-LIGHT HOLDER         6   \n",
       "1  536365     71053                  WHITE METAL LANTERN         6   \n",
       "2  536365    84406B       CREAM CUPID HEARTS COAT HANGER         8   \n",
       "3  536365    84029G  KNITTED UNION FLAG HOT WATER BOTTLE         6   \n",
       "4  536365    84029E       RED WOOLLY HOTTIE WHITE HEART.         6   \n",
       "\n",
       "          InvoiceDate  Price  Customer ID         Country  \n",
       "0 2010-12-01 08:26:00   2.55      17850.0  United Kingdom  \n",
       "1 2010-12-01 08:26:00   3.39      17850.0  United Kingdom  \n",
       "2 2010-12-01 08:26:00   2.75      17850.0  United Kingdom  \n",
       "3 2010-12-01 08:26:00   3.39      17850.0  United Kingdom  \n",
       "4 2010-12-01 08:26:00   3.39      17850.0  United Kingdom  "
      ]
     },
     "execution_count": 4,
     "metadata": {},
     "output_type": "execute_result"
    }
   ],
   "source": [
    "df.head()"
   ]
  },
  {
   "cell_type": "code",
   "execution_count": 20,
   "id": "cc6c2ca5",
   "metadata": {},
   "outputs": [
    {
     "name": "stdout",
     "output_type": "stream",
     "text": [
      "<class 'pandas.core.frame.DataFrame'>\n",
      "RangeIndex: 541910 entries, 0 to 541909\n",
      "Data columns (total 8 columns):\n",
      " #   Column       Non-Null Count   Dtype         \n",
      "---  ------       --------------   -----         \n",
      " 0   Invoice      541910 non-null  object        \n",
      " 1   StockCode    541910 non-null  object        \n",
      " 2   Description  540456 non-null  object        \n",
      " 3   Quantity     541910 non-null  int64         \n",
      " 4   InvoiceDate  541910 non-null  datetime64[ns]\n",
      " 5   Price        541910 non-null  float64       \n",
      " 6   Customer ID  406830 non-null  float64       \n",
      " 7   Country      541910 non-null  object        \n",
      "dtypes: datetime64[ns](1), float64(2), int64(1), object(4)\n",
      "memory usage: 33.1+ MB\n"
     ]
    }
   ],
   "source": [
    "df.info()"
   ]
  },
  {
   "cell_type": "code",
   "execution_count": 21,
   "id": "2221ffc4",
   "metadata": {},
   "outputs": [
    {
     "data": {
      "text/html": [
       "<div>\n",
       "<style scoped>\n",
       "    .dataframe tbody tr th:only-of-type {\n",
       "        vertical-align: middle;\n",
       "    }\n",
       "\n",
       "    .dataframe tbody tr th {\n",
       "        vertical-align: top;\n",
       "    }\n",
       "\n",
       "    .dataframe thead th {\n",
       "        text-align: right;\n",
       "    }\n",
       "</style>\n",
       "<table border=\"1\" class=\"dataframe\">\n",
       "  <thead>\n",
       "    <tr style=\"text-align: right;\">\n",
       "      <th></th>\n",
       "      <th>count</th>\n",
       "      <th>mean</th>\n",
       "      <th>std</th>\n",
       "      <th>min</th>\n",
       "      <th>25%</th>\n",
       "      <th>50%</th>\n",
       "      <th>75%</th>\n",
       "      <th>max</th>\n",
       "    </tr>\n",
       "  </thead>\n",
       "  <tbody>\n",
       "    <tr>\n",
       "      <th>Quantity</th>\n",
       "      <td>541910.0</td>\n",
       "      <td>9.552234</td>\n",
       "      <td>218.080957</td>\n",
       "      <td>-80995.00</td>\n",
       "      <td>1.00</td>\n",
       "      <td>3.00</td>\n",
       "      <td>10.00</td>\n",
       "      <td>80995.0</td>\n",
       "    </tr>\n",
       "    <tr>\n",
       "      <th>Price</th>\n",
       "      <td>541910.0</td>\n",
       "      <td>4.611138</td>\n",
       "      <td>96.759765</td>\n",
       "      <td>-11062.06</td>\n",
       "      <td>1.25</td>\n",
       "      <td>2.08</td>\n",
       "      <td>4.13</td>\n",
       "      <td>38970.0</td>\n",
       "    </tr>\n",
       "    <tr>\n",
       "      <th>Customer ID</th>\n",
       "      <td>406830.0</td>\n",
       "      <td>15287.684160</td>\n",
       "      <td>1713.603074</td>\n",
       "      <td>12346.00</td>\n",
       "      <td>13953.00</td>\n",
       "      <td>15152.00</td>\n",
       "      <td>16791.00</td>\n",
       "      <td>18287.0</td>\n",
       "    </tr>\n",
       "  </tbody>\n",
       "</table>\n",
       "</div>"
      ],
      "text/plain": [
       "                count          mean          std       min       25%  \\\n",
       "Quantity     541910.0      9.552234   218.080957 -80995.00      1.00   \n",
       "Price        541910.0      4.611138    96.759765 -11062.06      1.25   \n",
       "Customer ID  406830.0  15287.684160  1713.603074  12346.00  13953.00   \n",
       "\n",
       "                  50%       75%      max  \n",
       "Quantity         3.00     10.00  80995.0  \n",
       "Price            2.08      4.13  38970.0  \n",
       "Customer ID  15152.00  16791.00  18287.0  "
      ]
     },
     "execution_count": 21,
     "metadata": {},
     "output_type": "execute_result"
    }
   ],
   "source": [
    "df.describe().T # descriptive statistics of numerical variables"
   ]
  },
  {
   "cell_type": "markdown",
   "id": "f50b97ee",
   "metadata": {},
   "source": [
    "when we check the descriptive statistics of variables, we observe some negative values on quantity and price colums, we are going to drop these raws later. Customer ID should be also object type."
   ]
  },
  {
   "cell_type": "code",
   "execution_count": 22,
   "id": "79bebee9",
   "metadata": {},
   "outputs": [
    {
     "data": {
      "text/plain": [
       "Invoice             0\n",
       "StockCode           0\n",
       "Description      1454\n",
       "Quantity            0\n",
       "InvoiceDate         0\n",
       "Price               0\n",
       "Customer ID    135080\n",
       "Country             0\n",
       "dtype: int64"
      ]
     },
     "execution_count": 22,
     "metadata": {},
     "output_type": "execute_result"
    }
   ],
   "source": [
    "df.isnull().sum() #check the missing values"
   ]
  },
  {
   "cell_type": "markdown",
   "id": "13762c1e",
   "metadata": {},
   "source": [
    "# Data Preprocessing"
   ]
  },
  {
   "cell_type": "code",
   "execution_count": 23,
   "id": "b0320e41",
   "metadata": {},
   "outputs": [],
   "source": [
    " #drop the rows have missing Customer ID\n",
    "df = df[df['Customer ID'].notna()]  \n",
    "\n",
    " #drop the canceled orders \n",
    "df = df[(df['Quantity'] > 0)]       \n",
    "\n",
    "\n",
    "#drop unnecessary columns\n",
    "df.drop(['Description','Country'], axis= 1, inplace= True) "
   ]
  },
  {
   "cell_type": "code",
   "execution_count": 24,
   "id": "09bb0f88",
   "metadata": {},
   "outputs": [],
   "source": [
    "df['Total_Sales'] = df['Quantity'] * df['Price']\n",
    "df['Customer ID'] = df['Customer ID'].astype(str)"
   ]
  },
  {
   "cell_type": "code",
   "execution_count": 31,
   "id": "dcb1e4ab",
   "metadata": {},
   "outputs": [
    {
     "data": {
      "text/plain": [
       "0         2010-12-01\n",
       "1         2010-12-01\n",
       "2         2010-12-01\n",
       "3         2010-12-01\n",
       "4         2010-12-01\n",
       "             ...    \n",
       "541905    2011-12-09\n",
       "541906    2011-12-09\n",
       "541907    2011-12-09\n",
       "541908    2011-12-09\n",
       "541909    2011-12-09\n",
       "Name: InvoiceDate2, Length: 397925, dtype: object"
      ]
     },
     "execution_count": 31,
     "metadata": {},
     "output_type": "execute_result"
    }
   ],
   "source": [
    "df['InvoiceDate2'] = df['InvoiceDate'].dt.date\n",
    "df['InvoiceDate2']"
   ]
  },
  {
   "cell_type": "code",
   "execution_count": 32,
   "id": "9fe01a7a",
   "metadata": {},
   "outputs": [
    {
     "data": {
      "text/plain": [
       "datetime.date(2011, 12, 9)"
      ]
     },
     "execution_count": 32,
     "metadata": {},
     "output_type": "execute_result"
    }
   ],
   "source": [
    "df['InvoiceDate2'].max()"
   ]
  },
  {
   "cell_type": "markdown",
   "id": "1d445424",
   "metadata": {},
   "source": [
    "Outlier Analysis if its appropriate----------------------------"
   ]
  },
  {
   "cell_type": "markdown",
   "id": "8514ddff",
   "metadata": {},
   "source": [
    "# RFM analysis for CLTV modelling"
   ]
  },
  {
   "cell_type": "code",
   "execution_count": 34,
   "id": "4d73c0d9",
   "metadata": {},
   "outputs": [],
   "source": [
    "rfm_pre = df[['Customer ID','InvoiceDate2','Total_Sales']]"
   ]
  },
  {
   "cell_type": "code",
   "execution_count": 35,
   "id": "8d4c9ff5",
   "metadata": {},
   "outputs": [],
   "source": [
    "# Get the format into the required Frequency, Recency and T (age) using the lifetimes library\n",
    "rfm_summary = calibration_and_holdout_data(rfm_pre,\n",
    "                                          customer_id_col = 'Customer ID',\n",
    "                                          datetime_col = 'InvoiceDate2',\n",
    "                                          monetary_value_col = 'Total_Sales',\n",
    "                                          calibration_period_end = '2011-09-10',\n",
    "                                          observation_period_end = '2011-12-09')"
   ]
  },
  {
   "cell_type": "code",
   "execution_count": 36,
   "id": "fe7f9f54",
   "metadata": {},
   "outputs": [
    {
     "data": {
      "text/html": [
       "<div>\n",
       "<style scoped>\n",
       "    .dataframe tbody tr th:only-of-type {\n",
       "        vertical-align: middle;\n",
       "    }\n",
       "\n",
       "    .dataframe tbody tr th {\n",
       "        vertical-align: top;\n",
       "    }\n",
       "\n",
       "    .dataframe thead th {\n",
       "        text-align: right;\n",
       "    }\n",
       "</style>\n",
       "<table border=\"1\" class=\"dataframe\">\n",
       "  <thead>\n",
       "    <tr style=\"text-align: right;\">\n",
       "      <th></th>\n",
       "      <th>frequency_cal</th>\n",
       "      <th>recency_cal</th>\n",
       "      <th>T_cal</th>\n",
       "      <th>monetary_value_cal</th>\n",
       "      <th>frequency_holdout</th>\n",
       "      <th>monetary_value_holdout</th>\n",
       "      <th>duration_holdout</th>\n",
       "    </tr>\n",
       "    <tr>\n",
       "      <th>Customer ID</th>\n",
       "      <th></th>\n",
       "      <th></th>\n",
       "      <th></th>\n",
       "      <th></th>\n",
       "      <th></th>\n",
       "      <th></th>\n",
       "      <th></th>\n",
       "    </tr>\n",
       "  </thead>\n",
       "  <tbody>\n",
       "    <tr>\n",
       "      <th>12346.0</th>\n",
       "      <td>0.0</td>\n",
       "      <td>0.0</td>\n",
       "      <td>235.0</td>\n",
       "      <td>0.0000</td>\n",
       "      <td>0.0</td>\n",
       "      <td>0.000000</td>\n",
       "      <td>90.0</td>\n",
       "    </tr>\n",
       "    <tr>\n",
       "      <th>12347.0</th>\n",
       "      <td>4.0</td>\n",
       "      <td>238.0</td>\n",
       "      <td>277.0</td>\n",
       "      <td>519.7675</td>\n",
       "      <td>2.0</td>\n",
       "      <td>26.192069</td>\n",
       "      <td>90.0</td>\n",
       "    </tr>\n",
       "    <tr>\n",
       "      <th>12348.0</th>\n",
       "      <td>2.0</td>\n",
       "      <td>110.0</td>\n",
       "      <td>268.0</td>\n",
       "      <td>297.2200</td>\n",
       "      <td>1.0</td>\n",
       "      <td>103.333333</td>\n",
       "      <td>90.0</td>\n",
       "    </tr>\n",
       "    <tr>\n",
       "      <th>12350.0</th>\n",
       "      <td>0.0</td>\n",
       "      <td>0.0</td>\n",
       "      <td>220.0</td>\n",
       "      <td>0.0000</td>\n",
       "      <td>0.0</td>\n",
       "      <td>0.000000</td>\n",
       "      <td>90.0</td>\n",
       "    </tr>\n",
       "    <tr>\n",
       "      <th>12352.0</th>\n",
       "      <td>3.0</td>\n",
       "      <td>34.0</td>\n",
       "      <td>206.0</td>\n",
       "      <td>421.7700</td>\n",
       "      <td>3.0</td>\n",
       "      <td>20.090000</td>\n",
       "      <td>90.0</td>\n",
       "    </tr>\n",
       "  </tbody>\n",
       "</table>\n",
       "</div>"
      ],
      "text/plain": [
       "             frequency_cal  recency_cal  T_cal  monetary_value_cal  \\\n",
       "Customer ID                                                          \n",
       "12346.0                0.0          0.0  235.0              0.0000   \n",
       "12347.0                4.0        238.0  277.0            519.7675   \n",
       "12348.0                2.0        110.0  268.0            297.2200   \n",
       "12350.0                0.0          0.0  220.0              0.0000   \n",
       "12352.0                3.0         34.0  206.0            421.7700   \n",
       "\n",
       "             frequency_holdout  monetary_value_holdout  duration_holdout  \n",
       "Customer ID                                                               \n",
       "12346.0                    0.0                0.000000              90.0  \n",
       "12347.0                    2.0               26.192069              90.0  \n",
       "12348.0                    1.0              103.333333              90.0  \n",
       "12350.0                    0.0                0.000000              90.0  \n",
       "12352.0                    3.0               20.090000              90.0  "
      ]
     },
     "execution_count": 36,
     "metadata": {},
     "output_type": "execute_result"
    }
   ],
   "source": [
    "rfm_summary.head()"
   ]
  },
  {
   "cell_type": "markdown",
   "id": "e88dfb17",
   "metadata": {},
   "source": [
    "# Build and Fit BG-NBD Model (Expected number of transaction)"
   ]
  },
  {
   "cell_type": "code",
   "execution_count": 37,
   "id": "5d433ab2",
   "metadata": {},
   "outputs": [
    {
     "name": "stdout",
     "output_type": "stream",
     "text": [
      "Optimization terminated successfully.\n",
      "         Current function value: -1.356756\n",
      "         Iterations: 41\n",
      "         Function evaluations: 42\n",
      "         Gradient evaluations: 42\n"
     ]
    },
    {
     "data": {
      "text/plain": [
       "<lifetimes.ModifiedBetaGeoFitter: fitted with 3370 subjects, a: 0.00, alpha: 62.46, b: 0.00, r: 0.69>"
      ]
     },
     "execution_count": 37,
     "metadata": {},
     "output_type": "execute_result"
    }
   ],
   "source": [
    "from lifetimes import ModifiedBetaGeoFitter\n",
    "\n",
    "bgnbd = ModifiedBetaGeoFitter(penalizer_coef = 0.01)\n",
    "\n",
    "bgnbd.fit(rfm_summary['frequency_cal'],\n",
    "         rfm_summary['recency_cal'],\n",
    "         rfm_summary['T_cal'],\n",
    "         verbose = True)"
   ]
  },
  {
   "cell_type": "markdown",
   "id": "8444f459",
   "metadata": {},
   "source": [
    "Modified Beta Geo fitter (MBG) is given a parameter penalizer_coef which is applied on the L2 norm or Euclidean norm. "
   ]
  },
  {
   "cell_type": "code",
   "execution_count": 38,
   "id": "a3b28d79",
   "metadata": {},
   "outputs": [],
   "source": [
    "t = 90\n",
    "rfm_summary['predicted_purchases'] = bgnbd.conditional_expected_number_of_purchases_up_to_time(t,\n",
    "                                                                                              rfm_summary['frequency_cal'],\n",
    "                                                                                              rfm_summary['recency_cal'],\n",
    "                                                                                              rfm_summary['T_cal'])\n",
    "rfm_summary['p_alive'] = bgnbd.conditional_probability_alive(rfm_summary['frequency_cal'],\n",
    "                                                             rfm_summary['recency_cal'],\n",
    "                                                             rfm_summary['T_cal'])"
   ]
  },
  {
   "cell_type": "code",
   "execution_count": 39,
   "id": "0a972136",
   "metadata": {},
   "outputs": [
    {
     "data": {
      "text/html": [
       "<div>\n",
       "<style scoped>\n",
       "    .dataframe tbody tr th:only-of-type {\n",
       "        vertical-align: middle;\n",
       "    }\n",
       "\n",
       "    .dataframe tbody tr th {\n",
       "        vertical-align: top;\n",
       "    }\n",
       "\n",
       "    .dataframe thead th {\n",
       "        text-align: right;\n",
       "    }\n",
       "</style>\n",
       "<table border=\"1\" class=\"dataframe\">\n",
       "  <thead>\n",
       "    <tr style=\"text-align: right;\">\n",
       "      <th></th>\n",
       "      <th>frequency_cal</th>\n",
       "      <th>recency_cal</th>\n",
       "      <th>T_cal</th>\n",
       "      <th>monetary_value_cal</th>\n",
       "      <th>frequency_holdout</th>\n",
       "      <th>monetary_value_holdout</th>\n",
       "      <th>duration_holdout</th>\n",
       "      <th>predicted_purchases</th>\n",
       "      <th>p_alive</th>\n",
       "    </tr>\n",
       "    <tr>\n",
       "      <th>Customer ID</th>\n",
       "      <th></th>\n",
       "      <th></th>\n",
       "      <th></th>\n",
       "      <th></th>\n",
       "      <th></th>\n",
       "      <th></th>\n",
       "      <th></th>\n",
       "      <th></th>\n",
       "      <th></th>\n",
       "    </tr>\n",
       "  </thead>\n",
       "  <tbody>\n",
       "    <tr>\n",
       "      <th>16600.0</th>\n",
       "      <td>1.0</td>\n",
       "      <td>85.0</td>\n",
       "      <td>248.0</td>\n",
       "      <td>111.60</td>\n",
       "      <td>4.0</td>\n",
       "      <td>13.092273</td>\n",
       "      <td>90.0</td>\n",
       "      <td>0.488564</td>\n",
       "      <td>1.0</td>\n",
       "    </tr>\n",
       "    <tr>\n",
       "      <th>16344.0</th>\n",
       "      <td>0.0</td>\n",
       "      <td>0.0</td>\n",
       "      <td>68.0</td>\n",
       "      <td>0.00</td>\n",
       "      <td>0.0</td>\n",
       "      <td>0.000000</td>\n",
       "      <td>90.0</td>\n",
       "      <td>0.472786</td>\n",
       "      <td>1.0</td>\n",
       "    </tr>\n",
       "    <tr>\n",
       "      <th>13239.0</th>\n",
       "      <td>0.0</td>\n",
       "      <td>0.0</td>\n",
       "      <td>171.0</td>\n",
       "      <td>0.00</td>\n",
       "      <td>0.0</td>\n",
       "      <td>0.000000</td>\n",
       "      <td>90.0</td>\n",
       "      <td>0.264198</td>\n",
       "      <td>1.0</td>\n",
       "    </tr>\n",
       "    <tr>\n",
       "      <th>14600.0</th>\n",
       "      <td>0.0</td>\n",
       "      <td>0.0</td>\n",
       "      <td>215.0</td>\n",
       "      <td>0.00</td>\n",
       "      <td>0.0</td>\n",
       "      <td>0.000000</td>\n",
       "      <td>90.0</td>\n",
       "      <td>0.222301</td>\n",
       "      <td>1.0</td>\n",
       "    </tr>\n",
       "    <tr>\n",
       "      <th>13192.0</th>\n",
       "      <td>1.0</td>\n",
       "      <td>110.0</td>\n",
       "      <td>115.0</td>\n",
       "      <td>447.62</td>\n",
       "      <td>0.0</td>\n",
       "      <td>0.000000</td>\n",
       "      <td>90.0</td>\n",
       "      <td>0.854727</td>\n",
       "      <td>1.0</td>\n",
       "    </tr>\n",
       "  </tbody>\n",
       "</table>\n",
       "</div>"
      ],
      "text/plain": [
       "             frequency_cal  recency_cal  T_cal  monetary_value_cal  \\\n",
       "Customer ID                                                          \n",
       "16600.0                1.0         85.0  248.0              111.60   \n",
       "16344.0                0.0          0.0   68.0                0.00   \n",
       "13239.0                0.0          0.0  171.0                0.00   \n",
       "14600.0                0.0          0.0  215.0                0.00   \n",
       "13192.0                1.0        110.0  115.0              447.62   \n",
       "\n",
       "             frequency_holdout  monetary_value_holdout  duration_holdout  \\\n",
       "Customer ID                                                                \n",
       "16600.0                    4.0               13.092273              90.0   \n",
       "16344.0                    0.0                0.000000              90.0   \n",
       "13239.0                    0.0                0.000000              90.0   \n",
       "14600.0                    0.0                0.000000              90.0   \n",
       "13192.0                    0.0                0.000000              90.0   \n",
       "\n",
       "             predicted_purchases  p_alive  \n",
       "Customer ID                                \n",
       "16600.0                 0.488564      1.0  \n",
       "16344.0                 0.472786      1.0  \n",
       "13239.0                 0.264198      1.0  \n",
       "14600.0                 0.222301      1.0  \n",
       "13192.0                 0.854727      1.0  "
      ]
     },
     "metadata": {},
     "output_type": "display_data"
    }
   ],
   "source": [
    "display(rfm_summary.sample(5))"
   ]
  },
  {
   "cell_type": "markdown",
   "id": "8a777fed",
   "metadata": {},
   "source": [
    "Gamma-Gamma assumes that there is no relationship between the monetary value and the purchase frequency. For that, we need to check it by using the Pearsons’ correlation test."
   ]
  },
  {
   "cell_type": "code",
   "execution_count": 40,
   "id": "6627db2c",
   "metadata": {},
   "outputs": [
    {
     "data": {
      "text/html": [
       "<div>\n",
       "<style scoped>\n",
       "    .dataframe tbody tr th:only-of-type {\n",
       "        vertical-align: middle;\n",
       "    }\n",
       "\n",
       "    .dataframe tbody tr th {\n",
       "        vertical-align: top;\n",
       "    }\n",
       "\n",
       "    .dataframe thead th {\n",
       "        text-align: right;\n",
       "    }\n",
       "</style>\n",
       "<table border=\"1\" class=\"dataframe\">\n",
       "  <thead>\n",
       "    <tr style=\"text-align: right;\">\n",
       "      <th></th>\n",
       "      <th>monetary_value_cal</th>\n",
       "      <th>frequency_cal</th>\n",
       "    </tr>\n",
       "  </thead>\n",
       "  <tbody>\n",
       "    <tr>\n",
       "      <th>monetary_value_cal</th>\n",
       "      <td>1.000000</td>\n",
       "      <td>0.105329</td>\n",
       "    </tr>\n",
       "    <tr>\n",
       "      <th>frequency_cal</th>\n",
       "      <td>0.105329</td>\n",
       "      <td>1.000000</td>\n",
       "    </tr>\n",
       "  </tbody>\n",
       "</table>\n",
       "</div>"
      ],
      "text/plain": [
       "                    monetary_value_cal  frequency_cal\n",
       "monetary_value_cal            1.000000       0.105329\n",
       "frequency_cal                 0.105329       1.000000"
      ]
     },
     "execution_count": 40,
     "metadata": {},
     "output_type": "execute_result"
    }
   ],
   "source": [
    "returned_customers_rfm_summary = rfm_summary[rfm_summary['frequency_cal'] > 0]\n",
    "returned_customers_rfm_summary[['monetary_value_cal','frequency_cal']].corr()"
   ]
  },
  {
   "cell_type": "markdown",
   "id": "c8b96972",
   "metadata": {},
   "source": [
    "# Build and Fit Gamma Gamma Model (Expected average spending)"
   ]
  },
  {
   "cell_type": "code",
   "execution_count": 41,
   "id": "1ff5901d",
   "metadata": {},
   "outputs": [
    {
     "name": "stdout",
     "output_type": "stream",
     "text": [
      "Optimization terminated successfully.\n",
      "         Current function value: 8.049980\n",
      "         Iterations: 12\n",
      "         Function evaluations: 13\n",
      "         Gradient evaluations: 13\n"
     ]
    },
    {
     "data": {
      "text/html": [
       "<div>\n",
       "<style scoped>\n",
       "    .dataframe tbody tr th:only-of-type {\n",
       "        vertical-align: middle;\n",
       "    }\n",
       "\n",
       "    .dataframe tbody tr th {\n",
       "        vertical-align: top;\n",
       "    }\n",
       "\n",
       "    .dataframe thead th {\n",
       "        text-align: right;\n",
       "    }\n",
       "</style>\n",
       "<table border=\"1\" class=\"dataframe\">\n",
       "  <thead>\n",
       "    <tr style=\"text-align: right;\">\n",
       "      <th></th>\n",
       "      <th>coef</th>\n",
       "      <th>se(coef)</th>\n",
       "      <th>lower 95% bound</th>\n",
       "      <th>upper 95% bound</th>\n",
       "    </tr>\n",
       "  </thead>\n",
       "  <tbody>\n",
       "    <tr>\n",
       "      <th>p</th>\n",
       "      <td>3.765928</td>\n",
       "      <td>0.115437</td>\n",
       "      <td>3.539672</td>\n",
       "      <td>3.992185</td>\n",
       "    </tr>\n",
       "    <tr>\n",
       "      <th>q</th>\n",
       "      <td>0.336334</td>\n",
       "      <td>0.008619</td>\n",
       "      <td>0.319441</td>\n",
       "      <td>0.353228</td>\n",
       "    </tr>\n",
       "    <tr>\n",
       "      <th>v</th>\n",
       "      <td>3.643351</td>\n",
       "      <td>0.116991</td>\n",
       "      <td>3.414049</td>\n",
       "      <td>3.872653</td>\n",
       "    </tr>\n",
       "  </tbody>\n",
       "</table>\n",
       "</div>"
      ],
      "text/plain": [
       "       coef  se(coef)  lower 95% bound  upper 95% bound\n",
       "p  3.765928  0.115437         3.539672         3.992185\n",
       "q  0.336334  0.008619         0.319441         0.353228\n",
       "v  3.643351  0.116991         3.414049         3.872653"
      ]
     },
     "execution_count": 41,
     "metadata": {},
     "output_type": "execute_result"
    }
   ],
   "source": [
    "from lifetimes import GammaGammaFitter\n",
    "\n",
    "gg = GammaGammaFitter(penalizer_coef = 0.01)\n",
    "gg.fit(returned_customers_rfm_summary['frequency_cal'],\n",
    "      returned_customers_rfm_summary['monetary_value_cal'],\n",
    "      verbose = True)\n",
    "gg.summary"
   ]
  },
  {
   "cell_type": "markdown",
   "id": "55cbf661",
   "metadata": {},
   "source": [
    "Using the gamma-gamma fitter model we will now predict the CLTV for customers"
   ]
  },
  {
   "cell_type": "code",
   "execution_count": 42,
   "id": "132bc9a0",
   "metadata": {},
   "outputs": [],
   "source": [
    "rfm_summary['cltv'] = gg.customer_lifetime_value(bgnbd,\n",
    "                                                rfm_summary['frequency_cal'],\n",
    "                                                rfm_summary['recency_cal'],\n",
    "                                                rfm_summary['T_cal'],\n",
    "                                                rfm_summary['monetary_value_cal'],\n",
    "                                                time = 3, #months\n",
    "                                                discount_rate = 0)\n",
    "\n",
    "rfm_summary['cltv'] += -1*rfm_summary['cltv'].min()\n",
    "\n"
   ]
  },
  {
   "cell_type": "code",
   "execution_count": 68,
   "id": "e3773735",
   "metadata": {},
   "outputs": [
    {
     "data": {
      "text/html": [
       "<div>\n",
       "<style scoped>\n",
       "    .dataframe tbody tr th:only-of-type {\n",
       "        vertical-align: middle;\n",
       "    }\n",
       "\n",
       "    .dataframe tbody tr th {\n",
       "        vertical-align: top;\n",
       "    }\n",
       "\n",
       "    .dataframe thead th {\n",
       "        text-align: right;\n",
       "    }\n",
       "</style>\n",
       "<table border=\"1\" class=\"dataframe\">\n",
       "  <thead>\n",
       "    <tr style=\"text-align: right;\">\n",
       "      <th></th>\n",
       "      <th>frequency_cal</th>\n",
       "      <th>recency_cal</th>\n",
       "      <th>T_cal</th>\n",
       "      <th>monetary_value_cal</th>\n",
       "      <th>frequency_holdout</th>\n",
       "      <th>monetary_value_holdout</th>\n",
       "      <th>duration_holdout</th>\n",
       "      <th>predicted_purchases</th>\n",
       "      <th>p_alive</th>\n",
       "      <th>cltv</th>\n",
       "    </tr>\n",
       "    <tr>\n",
       "      <th>Customer ID</th>\n",
       "      <th></th>\n",
       "      <th></th>\n",
       "      <th></th>\n",
       "      <th></th>\n",
       "      <th></th>\n",
       "      <th></th>\n",
       "      <th></th>\n",
       "      <th></th>\n",
       "      <th></th>\n",
       "      <th></th>\n",
       "    </tr>\n",
       "  </thead>\n",
       "  <tbody>\n",
       "    <tr>\n",
       "      <th>14646.0</th>\n",
       "      <td>29.0</td>\n",
       "      <td>262.0</td>\n",
       "      <td>264.0</td>\n",
       "      <td>6145.919310</td>\n",
       "      <td>15.0</td>\n",
       "      <td>145.368616</td>\n",
       "      <td>90.0</td>\n",
       "      <td>8.183798</td>\n",
       "      <td>1.0</td>\n",
       "      <td>50625.607905</td>\n",
       "    </tr>\n",
       "    <tr>\n",
       "      <th>18102.0</th>\n",
       "      <td>15.0</td>\n",
       "      <td>269.0</td>\n",
       "      <td>277.0</td>\n",
       "      <td>7302.025333</td>\n",
       "      <td>10.0</td>\n",
       "      <td>463.457276</td>\n",
       "      <td>90.0</td>\n",
       "      <td>4.158608</td>\n",
       "      <td>1.0</td>\n",
       "      <td>30748.381227</td>\n",
       "    </tr>\n",
       "    <tr>\n",
       "      <th>12415.0</th>\n",
       "      <td>11.0</td>\n",
       "      <td>238.0</td>\n",
       "      <td>247.0</td>\n",
       "      <td>8643.318182</td>\n",
       "      <td>4.0</td>\n",
       "      <td>198.492609</td>\n",
       "      <td>90.0</td>\n",
       "      <td>3.398439</td>\n",
       "      <td>1.0</td>\n",
       "      <td>29873.279536</td>\n",
       "    </tr>\n",
       "    <tr>\n",
       "      <th>14156.0</th>\n",
       "      <td>30.0</td>\n",
       "      <td>278.0</td>\n",
       "      <td>281.0</td>\n",
       "      <td>3284.538000</td>\n",
       "      <td>12.0</td>\n",
       "      <td>93.541869</td>\n",
       "      <td>90.0</td>\n",
       "      <td>8.040769</td>\n",
       "      <td>1.0</td>\n",
       "      <td>26587.347443</td>\n",
       "    </tr>\n",
       "    <tr>\n",
       "      <th>17450.0</th>\n",
       "      <td>16.0</td>\n",
       "      <td>272.0</td>\n",
       "      <td>277.0</td>\n",
       "      <td>5277.043750</td>\n",
       "      <td>10.0</td>\n",
       "      <td>720.595000</td>\n",
       "      <td>90.0</td>\n",
       "      <td>4.423736</td>\n",
       "      <td>1.0</td>\n",
       "      <td>23625.342816</td>\n",
       "    </tr>\n",
       "  </tbody>\n",
       "</table>\n",
       "</div>"
      ],
      "text/plain": [
       "             frequency_cal  recency_cal  T_cal  monetary_value_cal  \\\n",
       "Customer ID                                                          \n",
       "14646.0               29.0        262.0  264.0         6145.919310   \n",
       "18102.0               15.0        269.0  277.0         7302.025333   \n",
       "12415.0               11.0        238.0  247.0         8643.318182   \n",
       "14156.0               30.0        278.0  281.0         3284.538000   \n",
       "17450.0               16.0        272.0  277.0         5277.043750   \n",
       "\n",
       "             frequency_holdout  monetary_value_holdout  duration_holdout  \\\n",
       "Customer ID                                                                \n",
       "14646.0                   15.0              145.368616              90.0   \n",
       "18102.0                   10.0              463.457276              90.0   \n",
       "12415.0                    4.0              198.492609              90.0   \n",
       "14156.0                   12.0               93.541869              90.0   \n",
       "17450.0                   10.0              720.595000              90.0   \n",
       "\n",
       "             predicted_purchases  p_alive          cltv  \n",
       "Customer ID                                              \n",
       "14646.0                 8.183798      1.0  50625.607905  \n",
       "18102.0                 4.158608      1.0  30748.381227  \n",
       "12415.0                 3.398439      1.0  29873.279536  \n",
       "14156.0                 8.040769      1.0  26587.347443  \n",
       "17450.0                 4.423736      1.0  23625.342816  "
      ]
     },
     "execution_count": 68,
     "metadata": {},
     "output_type": "execute_result"
    }
   ],
   "source": [
    "rfm_summary.sort_values(\"cltv\", ascending=False).head()"
   ]
  },
  {
   "cell_type": "code",
   "execution_count": 44,
   "id": "afd8f50a",
   "metadata": {},
   "outputs": [
    {
     "data": {
      "image/png": "[encoded data removed]",
      "text/plain": [
       "<Figure size 432x288 with 1 Axes>"
      ]
     },
     "metadata": {
      "needs_background": "light"
     },
     "output_type": "display_data"
    }
   ],
   "source": [
    "from lifetimes.plotting import plot_period_transactions\n",
    "\n",
    "ax = plot_period_transactions(bgnbd, max_frequency = 7)\n",
    "ax.set_yscale('log')\n",
    "sns.despine();"
   ]
  },
  {
   "cell_type": "code",
   "execution_count": 45,
   "id": "f22e6598",
   "metadata": {},
   "outputs": [
    {
     "data": {
      "image/png": "[encoded data removed]",
      "text/plain": [
       "<Figure size 432x288 with 1 Axes>"
      ]
     },
     "metadata": {
      "needs_background": "light"
     },
     "output_type": "display_data"
    }
   ],
   "source": [
    "from lifetimes.plotting import plot_calibration_purchases_vs_holdout_purchases\n",
    "\n",
    "plot_calibration_purchases_vs_holdout_purchases(bgnbd, rfm_summary)\n",
    "sns.despine();"
   ]
  },
  {
   "cell_type": "code",
   "execution_count": 69,
   "id": "ab4529a5",
   "metadata": {},
   "outputs": [
    {
     "data": {
      "image/png": "[encoded data removed]",
      "text/plain": [
       "<Figure size 720x360 with 2 Axes>"
      ]
     },
     "metadata": {
      "needs_background": "light"
     },
     "output_type": "display_data"
    }
   ],
   "source": [
    "%matplotlib inline\n",
    "# set figure size\n",
    "plt.subplots(figsize=(10, 5))\n",
    "plot_probability_alive_matrix(bgnbd)\n",
    "plt.show()"
   ]
  },
  {
   "cell_type": "code",
   "execution_count": 47,
   "id": "0c70171c",
   "metadata": {},
   "outputs": [],
   "source": [
    "#Describing the particulars of the customers and initializing the total number of time units, \n",
    "#defining the future date and past date for plotting the history.\n",
    "\n",
    "individual = rfm_summary.iloc[1]\n",
    "\n",
    "id = individual.name\n",
    "t = 365*5\n",
    "\n",
    "today = date.today()\n",
    "two_years_ago = today.replace(year = today.year - 2)\n",
    "one_year_from_now = today.replace(year = today.year + 1)\n",
    "\n",
    "sp_trans = rfm_pre.loc[rfm_pre['Customer ID'] == id]"
   ]
  },
  {
   "cell_type": "code",
   "execution_count": 50,
   "id": "e32812c8",
   "metadata": {},
   "outputs": [
    {
     "name": "stdout",
     "output_type": "stream",
     "text": [
      "Probability that customer is still alive today is [1.]\n"
     ]
    }
   ],
   "source": [
    "t = (today - sp_trans.InvoiceDate2.min()).days\n",
    "p_alive_today = pd.DataFrame(calculate_alive_path(bgnbd, \n",
    "                                                  sp_trans, \n",
    "                                                  'InvoiceDate2', \n",
    "                                                  t, \n",
    "                                                  freq = 'D'))[0].tail(1).values\n",
    "p_alive_today = np.round(p_alive_today[0],2)\n",
    "print('Probability that customer is still alive today is', p_alive_today)"
   ]
  },
  {
   "cell_type": "code",
   "execution_count": 52,
   "id": "526e2df0",
   "metadata": {},
   "outputs": [
    {
     "data": {
      "image/png": "[encoded data removed]",
      "text/plain": [
       "<Figure size 432x288 with 1 Axes>"
      ]
     },
     "metadata": {
      "needs_background": "light"
     },
     "output_type": "display_data"
    }
   ],
   "source": [
    "t = (one_year_from_now - sp_trans.InvoiceDate2.min()).days\n",
    "ax = plot_history_alive(bgnbd, \n",
    "                        t, \n",
    "                        sp_trans, \n",
    "                        'InvoiceDate2', \n",
    "                        start_date = two_years_ago)\n",
    "\n",
    "ax.vlines(x = today, ymin = 0, ymax = 1.05)\n",
    "ax.hlines(y=0.8, xmin = two_years_ago, xmax = one_year_from_now)\n",
    "\n",
    "ax.set_xlim(two_years_ago, one_year_from_now) \n",
    "ax.set_ylim(0, 1.05)\n",
    " \n",
    "plt.xticks(rotation =-90)\n",
    "text(0.75, 0.1, p_alive_today, ha = 'center', va = 'center', transform = ax.transAxes)\n",
    "sns.despine()"
   ]
  },
  {
   "cell_type": "markdown",
   "id": "a8c63bb5",
   "metadata": {},
   "source": [
    "# Effect of time on prediction of transactions"
   ]
  },
  {
   "cell_type": "code",
   "execution_count": 55,
   "id": "47f1b9fb",
   "metadata": {},
   "outputs": [],
   "source": [
    "rfm_pre = pd.DataFrame(data = rfm_pre, columns = ['Customer ID', 'InvoiceDate2'])"
   ]
  },
  {
   "cell_type": "code",
   "execution_count": 59,
   "id": "93ea23d8",
   "metadata": {},
   "outputs": [
    {
     "data": {
      "text/html": [
       "<div>\n",
       "<style scoped>\n",
       "    .dataframe tbody tr th:only-of-type {\n",
       "        vertical-align: middle;\n",
       "    }\n",
       "\n",
       "    .dataframe tbody tr th {\n",
       "        vertical-align: top;\n",
       "    }\n",
       "\n",
       "    .dataframe thead th {\n",
       "        text-align: right;\n",
       "    }\n",
       "</style>\n",
       "<table border=\"1\" class=\"dataframe\">\n",
       "  <thead>\n",
       "    <tr style=\"text-align: right;\">\n",
       "      <th></th>\n",
       "      <th>actual</th>\n",
       "      <th>predicted</th>\n",
       "    </tr>\n",
       "  </thead>\n",
       "  <tbody>\n",
       "    <tr>\n",
       "      <th>0</th>\n",
       "      <td>0</td>\n",
       "      <td>1.042372</td>\n",
       "    </tr>\n",
       "    <tr>\n",
       "      <th>1</th>\n",
       "      <td>6</td>\n",
       "      <td>3.105172</td>\n",
       "    </tr>\n",
       "    <tr>\n",
       "      <th>2</th>\n",
       "      <td>10</td>\n",
       "      <td>5.672699</td>\n",
       "    </tr>\n",
       "    <tr>\n",
       "      <th>3</th>\n",
       "      <td>10</td>\n",
       "      <td>8.240226</td>\n",
       "    </tr>\n",
       "    <tr>\n",
       "      <th>4</th>\n",
       "      <td>16</td>\n",
       "      <td>11.564845</td>\n",
       "    </tr>\n",
       "  </tbody>\n",
       "</table>\n",
       "</div>"
      ],
      "text/plain": [
       "   actual  predicted\n",
       "0       0   1.042372\n",
       "1       6   3.105172\n",
       "2      10   5.672699\n",
       "3      10   8.240226\n",
       "4      16  11.564845"
      ]
     },
     "execution_count": 59,
     "metadata": {},
     "output_type": "execute_result"
    }
   ],
   "source": [
    "\n",
    "time_unit = (rfm_pre.InvoiceDate2.max() - rfm_pre.InvoiceDate2.min()).days\n",
    "df2 = expected_cumulative_transactions(bgnbd, rfm_pre, 'InvoiceDate2', 'Customer ID', time_unit)\n",
    "df2.head()"
   ]
  },
  {
   "cell_type": "code",
   "execution_count": 67,
   "id": "f7fea53f",
   "metadata": {},
   "outputs": [
    {
     "data": {
      "image/png": "[encoded data removed]",
      "text/plain": [
       "<Figure size 432x288 with 1 Axes>"
      ]
     },
     "metadata": {
      "needs_background": "light"
     },
     "output_type": "display_data"
    }
   ],
   "source": [
    "cal = datetime.strptime('2011-12-05', '%Y-%m-%d')\n",
    " \n",
    "from lifetimes.plotting import plot_cumulative_transactions\n",
    "\n",
    "time_unit = (rfm_pre.InvoiceDate2.max() - rfm_pre.InvoiceDate2.min()).days\n",
    "time_unit_cal = (cal.date() - rfm_pre.InvoiceDate2.min()).days\n",
    "plot_cumulative_transactions(bgnbd, rfm_pre, 'InvoiceDate2', 'Customer ID', time_unit, time_unit_cal, freq='D')\n",
    "sns.despine()"
   ]
  },
  {
   "cell_type": "code",
   "execution_count": 66,
   "id": "b8313d45",
   "metadata": {},
   "outputs": [],
   "source": []
  },
  {
   "cell_type": "code",
   "execution_count": null,
   "id": "676234fc",
   "metadata": {},
   "outputs": [],
   "source": []
  }
 ],
 "metadata": {
  "kernelspec": {
   "display_name": "Python 3",
   "language": "python",
   "name": "python3"
  },
  "language_info": {
   "codemirror_mode": {
    "name": "ipython",
    "version": 3
   },
   "file_extension": ".py",
   "mimetype": "text/x-python",
   "name": "python",
   "nbconvert_exporter": "python",
   "pygments_lexer": "ipython3",
   "version": "3.6.9"
  }
 },
 "nbformat": 4,
 "nbformat_minor": 5
}
